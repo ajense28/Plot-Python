{
 "cells": [
  {
   "cell_type": "code",
   "execution_count": 2,
   "id": "87f37592-aacb-4321-8f06-e4696bd2fb3c",
   "metadata": {},
   "outputs": [
    {
     "name": "stdin",
     "output_type": "stream",
     "text": [
      "What is the name of your .gen file?  ./Xe/GFN2/4-BS/geom.in.gen\n",
      "What would you like your POSCAR file to be called?  POSCAR_Xe\n"
     ]
    }
   ],
   "source": [
    "# This Python script convert DFTB+ .gen files into POSCAR (.vasp) file types\n",
    "# This can be run in command-line\n",
    "# Two prompts will display; the first asking for the name of the .gen file to be converted and the second asking for the name of the output POSCAR file\n",
    "\n",
    "import pandas as pd\n",
    "\n",
    "GenFile = input('What is the name of your .gen file? ')\n",
    "PoscarFile = input('What would you like your POSCAR file to be called? ')\n",
    "\n",
    "GenData = pd.read_csv(GenFile, header=None, skiprows=2, skipfooter=4, delim_whitespace=True, names=['Index','Type','X','Y','Z'], engine='python')\n",
    "TotalAtoms = len(GenData)\n",
    "SkipCellRows = TotalAtoms + 2 + 1\n",
    "CellData = pd.read_csv(GenFile, header=None, delim_whitespace=True, skiprows=SkipCellRows)\n",
    "\n",
    "raw_data = open(GenFile,'r')\n",
    "Lines = raw_data.readlines()\n",
    "AtomTypes = Lines[1].split()\n",
    "del Lines, raw_data\n",
    "\n",
    "Header = \"POSCAR from DFTB+ out.gen\\n\" # First line in POSCAR file\n",
    "Scaling = \"1\\n\" # second line in POSCAR file\n",
    "with open(PoscarFile, 'w') as file: # Create a file to write to\n",
    "    file.write(Header)\n",
    "    file.write(Scaling)\n",
    "    for i in range(0,len(CellData)):\n",
    "        cell = f'{CellData.iloc[i][0]} {CellData.iloc[i][1]} {CellData.iloc[i][2]}\\n'\n",
    "        file.write(cell)\n",
    "    for i in range(0,len(AtomTypes)):\n",
    "        file.write(f'{AtomTypes[i]} ')\n",
    "    file.write('\\n')\n",
    "    type = 1\n",
    "    for i in AtomTypes:\n",
    "        count = 0\n",
    "        for k in range(0,TotalAtoms):\n",
    "            if GenData['Type'].iloc[k] == type:\n",
    "                count += 1\n",
    "        file.write(f'{count} ')\n",
    "        type += 1\n",
    "    file.write('\\n')\n",
    "    file.write('Cartesian\\n')\n",
    "    type = 1\n",
    "    for i in AtomTypes:\n",
    "        for k in range(0,TotalAtoms):\n",
    "            if GenData['Type'].iloc[k] == type:\n",
    "                if k == len(GenData)-1:\n",
    "                    file.write(f\"{GenData['X'].iloc[k]} {GenData['Y'].iloc[k]} {GenData['Z'].iloc[k]}\")\n",
    "                else:\n",
    "                    file.write(f\"{GenData['X'].iloc[k]} {GenData['Y'].iloc[k]} {GenData['Z'].iloc[k]}\\n\")\n",
    "        type += 1"
   ]
  },
  {
   "cell_type": "code",
   "execution_count": null,
   "id": "7776a508-1954-4125-ad8f-5752158bdce7",
   "metadata": {},
   "outputs": [],
   "source": []
  },
  {
   "cell_type": "code",
   "execution_count": null,
   "id": "ee1ad6ca-a5cc-4afc-b550-0432782c757a",
   "metadata": {},
   "outputs": [],
   "source": []
  }
 ],
 "metadata": {
  "kernelspec": {
   "display_name": "Python 3 (ipykernel)",
   "language": "python",
   "name": "python3"
  },
  "language_info": {
   "codemirror_mode": {
    "name": "ipython",
    "version": 3
   },
   "file_extension": ".py",
   "mimetype": "text/x-python",
   "name": "python",
   "nbconvert_exporter": "python",
   "pygments_lexer": "ipython3",
   "version": "3.9.5"
  }
 },
 "nbformat": 4,
 "nbformat_minor": 5
}
