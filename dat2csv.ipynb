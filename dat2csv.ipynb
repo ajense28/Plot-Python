{
 "cells": [
  {
   "cell_type": "code",
   "execution_count": 2,
   "id": "af52a3ed-34bb-4050-90c4-39c4a1a0a5ba",
   "metadata": {},
   "outputs": [
    {
     "name": "stdin",
     "output_type": "stream",
     "text": [
      "what is the name of the .dat file to be converted? TDOS.dat\n",
      "what is the name of the .csv file to be outputted? XeDFT.csv\n"
     ]
    }
   ],
   "source": [
    "import csv\n",
    "\n",
    "with open(input('what is the name of the .dat file to be converted?'), 'r') as input_file:\n",
    "    lines = input_file.readlines()\n",
    "    newLines = []\n",
    "    for line in lines:\n",
    "        newLine = line.strip('|').split()\n",
    "        newLines.append(newLine)\n",
    "\n",
    "with open(input('what is the name of the .csv file to be outputted?'), 'w') as output_file:\n",
    "    file_writer = csv.writer(output_file)\n",
    "    file_writer.writerows(newLines)"
   ]
  },
  {
   "cell_type": "code",
   "execution_count": null,
   "id": "43c93568-91c8-44af-91a0-b594a6b6d572",
   "metadata": {},
   "outputs": [],
   "source": []
  },
  {
   "cell_type": "code",
   "execution_count": null,
   "id": "26acf637-3e63-4ac0-8d6c-cd2e550efb63",
   "metadata": {},
   "outputs": [],
   "source": []
  }
 ],
 "metadata": {
  "kernelspec": {
   "display_name": "Python 3 (ipykernel)",
   "language": "python",
   "name": "python3"
  },
  "language_info": {
   "codemirror_mode": {
    "name": "ipython",
    "version": 3
   },
   "file_extension": ".py",
   "mimetype": "text/x-python",
   "name": "python",
   "nbconvert_exporter": "python",
   "pygments_lexer": "ipython3",
   "version": "3.9.5"
  }
 },
 "nbformat": 4,
 "nbformat_minor": 5
}
