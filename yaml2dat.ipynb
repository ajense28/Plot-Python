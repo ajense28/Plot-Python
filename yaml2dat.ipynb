{
 "cells": [
  {
   "cell_type": "code",
   "execution_count": 1,
   "id": "dd0dd676-0e6a-43af-97c4-e6b0c806c06e",
   "metadata": {},
   "outputs": [],
   "source": [
    "import numpy as np\n",
    "import yaml as yaml\n",
    "import pandas as pd"
   ]
  },
  {
   "cell_type": "code",
   "execution_count": 6,
   "id": "3539b990-01b1-4aaa-b180-f7312ba573e8",
   "metadata": {},
   "outputs": [
    {
     "name": "stdin",
     "output_type": "stream",
     "text": [
      "What should the Phonon Band file be called? (include .dat):  /gscratch/ajense28/phonopy-vid/band.dat\n",
      "Input the path to the .yaml file to be converted (include file name):  /gscratch/ajense28/phonopy-vid/band.yaml\n"
     ]
    }
   ],
   "source": [
    "# using https://python.land/data-processing/python-yaml#Installing_and_importing_PyYAML\n",
    "\n",
    "PBAND = input('What should the Phonon Band file be called? (include .dat): ')\n",
    "with open(input('Input the path to the .yaml file to be converted (include file name): '), 'r') as file:  #'/gscratch/ajense28/Phonopy/vasp-CeO2/band.yaml', 'r') as file: #\n",
    "    phonon_bands = yaml.safe_load(file)\n",
    "# print(phonon_bands) # this is a dictionary\n",
    "\n",
    "nqpoint = phonon_bands['nqpoint']\n",
    "numCols = len(phonon_bands['segment_nqpoint'])\n",
    "dat = np.empty([nqpoint,numCols + 1], dtype=object) \n",
    "Header = '# Phonopy data from .yaml'\n",
    "\n",
    "with open(PBAND, 'w') as file: # Create a file to write to\n",
    "    file.write(Header)\n",
    "    file.write('\\n')\n",
    "    file.write('#Distance\\tBand #1\\t\\tBand #2\\t\\tBand #3\\t\\t...%s Band #%i \\n' %(\"\".join([\"\\t\" for i in range(numCols + 1)]), numCols))\n",
    "    for i in range(0,nqpoint): # num x pts = nqpoint\n",
    "        dat[i,0] = phonon_bands['phonon'][i]['distance']\n",
    "        file.write(f'{dat[i][0]:.8f}\\t')\n",
    "        for j in range(0,numCols): # num y pts = 9?\n",
    "            dat[i,j+1] = phonon_bands['phonon'][i]['band'][j]['frequency']\n",
    "            file.write(f'{dat[i][j+1]:.8f}    ')\n",
    "        file.write(f'\\n') \n",
    "    "
   ]
  },
  {
   "cell_type": "code",
   "execution_count": 7,
   "id": "1b266b44-05ec-4cd5-b98b-9eb205d9e5e9",
   "metadata": {},
   "outputs": [
    {
     "name": "stdout",
     "output_type": "stream",
     "text": [
      "6\n"
     ]
    }
   ],
   "source": [
    "print(numCols)"
   ]
  },
  {
   "cell_type": "code",
   "execution_count": null,
   "id": "f743f0f7-12c3-4b50-9b37-22dc492a804b",
   "metadata": {},
   "outputs": [],
   "source": []
  }
 ],
 "metadata": {
  "kernelspec": {
   "display_name": "Python 3 (ipykernel)",
   "language": "python",
   "name": "python3"
  },
  "language_info": {
   "codemirror_mode": {
    "name": "ipython",
    "version": 3
   },
   "file_extension": ".py",
   "mimetype": "text/x-python",
   "name": "python",
   "nbconvert_exporter": "python",
   "pygments_lexer": "ipython3",
   "version": "3.9.5"
  }
 },
 "nbformat": 4,
 "nbformat_minor": 5
}
